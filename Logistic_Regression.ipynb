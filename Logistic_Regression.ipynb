{
 "cells": [
  {
   "cell_type": "markdown",
   "metadata": {},
   "source": [
    "# Logistic Regression Model for mnist handwritten images (2 and 3)"
   ]
  },
  {
   "cell_type": "code",
   "execution_count": 13,
   "metadata": {},
   "outputs": [],
   "source": [
    "import cloudpickle as pickle\n",
    "mnist23 = pickle.load( open( \"mnist23.data\", \"rb\" ) )"
   ]
  },
  {
   "cell_type": "code",
   "execution_count": 14,
   "metadata": {},
   "outputs": [
    {
     "data": {
      "image/png": "[encoded data removed]",
      "text/plain": [
       "<matplotlib.figure.Figure at 0x16dd4418a90>"
      ]
     },
     "metadata": {},
     "output_type": "display_data"
    }
   ],
   "source": [
    "import numpy as np\n",
    "import matplotlib.pyplot as plt\n",
    "import matplotlib\n",
    "%matplotlib inline\n",
    "\n",
    "plt.figure(figsize=(20,4))\n",
    "for index, (image, label) in enumerate(zip(mnist23.data[0:5], mnist23.target[0:5])):\n",
    "    plt.subplot(1, 5, index + 1)\n",
    "    plt.imshow(np.reshape(image, (28,28)), cmap=plt.cm.gray)\n",
    "    plt.title('Training: %i\\n' % label, fontsize = 20)"
   ]
  },
  {
   "cell_type": "code",
   "execution_count": 15,
   "metadata": {},
   "outputs": [],
   "source": [
    "X = mnist23.data\n",
    "y = mnist23.target\n"
   ]
  },
  {
   "cell_type": "markdown",
   "metadata": {},
   "source": [
    "Split the data into training and test(validation) sets"
   ]
  },
  {
   "cell_type": "code",
   "execution_count": 16,
   "metadata": {},
   "outputs": [],
   "source": [
    "from sklearn.model_selection import train_test_split\n",
    "X_train, X_val, y_train, y_val = train_test_split(mnist23.data, mnist23.target, test_size=0.20, random_state = 0)\n",
    "\n"
   ]
  },
  {
   "cell_type": "code",
   "execution_count": 17,
   "metadata": {},
   "outputs": [
    {
     "data": {
      "image/png": "[encoded data removed]",
      "text/plain": [
       "<matplotlib.figure.Figure at 0x16dd48bad68>"
      ]
     },
     "metadata": {},
     "output_type": "display_data"
    }
   ],
   "source": [
    "#Let's define a function that will allow us to visualize the digits.\n",
    "\n",
    "def plot_digit(some_digit):\n",
    "    \n",
    "    some_digit_image = some_digit.reshape(28,28)\n",
    "\n",
    "    plt.imshow(some_digit_image, cmap = matplotlib.cm.binary, interpolation = \"nearest\")\n",
    "    plt.axis(\"off\")\n",
    "    plt.show()\n",
    "    \n",
    "plot_digit(X_train[854])\n"
   ]
  },
  {
   "cell_type": "markdown",
   "metadata": {},
   "source": [
    "Logistic Regression best suits for Binary Classification, following has a class defined as Logistic_Regression that runs a logistic regression model on given mnist23 data (with handwritten images) and classifies it whether an image is \"2\" or \"3\" ."
   ]
  },
  {
   "cell_type": "code",
   "execution_count": 18,
   "metadata": {},
   "outputs": [],
   "source": [
    "\n",
    "class Logistic_regression(object):\n",
    "    \n",
    "         \n",
    "    def normalisation(self,X_train,y_train,X_val,y_val):\n",
    "        \n",
    "        \"\"\"Let's normalise our data. The pixel will have a value between 0 and 255 (gray values).\n",
    "        Let's normalise the value between 0 and 1.\"\"\"\n",
    "        \n",
    "        X_train_normalised = X_train/255.0\n",
    "        X_val_normalised = X_val/255.0\n",
    "        \n",
    "        \"\"\"We need features along the rows, and training cases along the columns. \n",
    "        So let's reshape our dataset\"\"\" \n",
    "    \n",
    "        X_train_tr = X_train_normalised.transpose()\n",
    "        y_train_tr = y_train.reshape(1,y_train.shape[0])\n",
    "        X_val_tr = X_val_normalised.transpose()\n",
    "        y_val_tr = y_val.reshape(1,y_val.shape[0])\n",
    "        \n",
    "        \"\"\"We will need to rescale our lables. We will compare them in the cost function with 0 and 1 (proabilities)\n",
    "        and therefore our class labels must be 0 and 1, not 2 and 3. So the following step take care of it.\"\"\"\n",
    "\n",
    "        y_train_shifted = y_train_tr - 2\n",
    "        y_val_shifted = y_val_tr - 2\n",
    "    \n",
    "        Xtrain = X_train_tr\n",
    "        ytrain = y_train_shifted\n",
    "        Xval = X_val_tr\n",
    "        yval = y_val_shifted\n",
    "    \n",
    "        return Xtrain, ytrain, Xval, yval\n",
    "    \n",
    "    def sigmoid(self,x):\n",
    "        \"\"\"\n",
    "        Implement the sigmoid function\n",
    "\n",
    "        Return:\n",
    "        s -- the sigmoid function evaluated on x (as in equation)\n",
    "        \"\"\"\n",
    "    \n",
    "        s = 1.0 / (1.0 + np.exp(-x))\n",
    "    \n",
    "        return s\n",
    "\n",
    "    def initialize(self,dim):\n",
    "        \n",
    "        \"\"\"\n",
    "        Initialise the weights and the bias to dimensions (dim,1) for w and\n",
    "        to 1 for b (a scalar)\n",
    "\n",
    "        Arguments:\n",
    "        dim -- a scalar (float)\n",
    "\n",
    "        Return:\n",
    "        w -- a matrix of dimensions (dim,1) containing all zero\n",
    "        b -- a scalar = 0\n",
    "        \"\"\"\n",
    "   \n",
    "        w = np.zeros((dim,1))\n",
    "        #w = np.random.uniform(-0.5,0.5,size=(dim,1))\n",
    "        b = 0\n",
    "    \n",
    "        assert (w.shape == (dim,1))\n",
    "        assert (isinstance(b, float) or isinstance(b,int))\n",
    "    \n",
    "        return w,b\n",
    "\n",
    "    def gradient(self,w, b, X, Y):\n",
    "        \n",
    "        \"\"\"\n",
    "        This function calculates cost using Cross Entropy and its gradients \n",
    "\n",
    "        Arguments:\n",
    "        w -- weights, a numpy array of size (num_px * num_px, 1) (our case 784,1)\n",
    "        b -- bias, a scalar\n",
    "        X -- data of size (num_px * num_px, number of examples)\n",
    "        Y -- true \"label\" vector (containing 0 if class 2, 1 if class 3) of size (1, number of examples)\n",
    "\n",
    "        Return:\n",
    "        cost -- negative log-likelihood cost for logistic regression\n",
    "        dw -- gradient of the loss with respect to w, thus same shape as w\n",
    "        db -- gradient of the loss with respect to b, thus same shape as b\n",
    "        \"\"\"\n",
    "    \n",
    "        n = X.shape[1]\n",
    "    \n",
    "        z = np.dot(w.T,X)+b\n",
    "        A = self.sigmoid(z)\n",
    "        \n",
    "        cost = -1.0/n*np.sum(Y*np.log(A)+(1.0-Y)*np.log(1.0-A))\n",
    "    \n",
    "        dw = 1.0/n*np.dot(X, (A-Y).T)\n",
    "        db = 1.0/n*np.sum(A-Y)\n",
    "    \n",
    "        assert (dw.shape == w.shape)\n",
    "        assert (db.dtype == float)\n",
    "    \n",
    "        cost = np.squeeze(cost)\n",
    "        assert (cost.shape == ())\n",
    "    \n",
    "        grads = {\"dw\": dw, \n",
    "                 \"db\":db}\n",
    "    \n",
    "        return grads, cost\n",
    "\n",
    "    def train(self, w, b, X, Y, num_iterations, learning_rate, print_cost = False):\n",
    "        \n",
    "        \"\"\"\n",
    "        This function updates weights and biases (w and b) by running a gradient descent algorithm\n",
    "    \n",
    "        Arguments:\n",
    "        w -- weights, a numpy array of size (784, 1)\n",
    "        b -- bias, a scalar\n",
    "        X -- data of shape (784, # of samples)\n",
    "        Y -- true \"label\" vector (containing 0 if class 2, 1 if class 3), of shape (1, # of samples)\n",
    "        num_iterations -- number of iterations to optimize weights and biases\n",
    "        learning_rate -- learning rate of the gradient descent update rule\n",
    "        print_cost -- True to print the loss every 100 iterations\n",
    "    \n",
    "        Returns:\n",
    "        params -- dictionary containing the weights w and bias b\n",
    "        grads -- dictionary containing the gradients of the weights and bias with respect to the cost function\n",
    "        costs -- list of all the costs computed during the optimization.\n",
    "        \"\"\"\n",
    "    \n",
    "        costs = []\n",
    "        \n",
    "        cost = 1\n",
    "        epoch = 0\n",
    "        \n",
    "        for i in range(num_iterations):\n",
    "            \n",
    "            grads, cost = self.gradient(w, b, X, Y)\n",
    "        \n",
    "            dw = grads[\"dw\"]\n",
    "            db = grads[\"db\"]\n",
    "            \n",
    "            # update weights and bias\n",
    "        \n",
    "            w = w - learning_rate*dw\n",
    "            b = b - learning_rate*db\n",
    "            \n",
    "            costs.append(cost)\n",
    "        \n",
    "            if i % 100 == 0:\n",
    "                costs.append(cost)\n",
    "            \n",
    "            if print_cost and i % 100 == 0:\n",
    "                print (\"Cost (iteration %i) = %f\" %(i, cost))\n",
    "        \n",
    "        grads = {\"dw\": dw, \"db\": db}\n",
    "        params = {\"w\": w, \"b\": b}\n",
    "        \n",
    "        return params, grads, costs\n",
    "\n",
    "    def predict (self,w, b, X_test):\n",
    "        \n",
    "        \"\"\"\n",
    "        Predict whether the label is 0 or 1 \n",
    "    \n",
    "        Arguments:\n",
    "        w -- weights, a numpy array of size (784, 1)\n",
    "        b -- bias, a scalar\n",
    "        X -- data of size (784, number of samples)\n",
    "    \n",
    "        Returns:\n",
    "        y_prediction -- a numpy array (vector) containing all predictions (0/1) \n",
    "        \"\"\"\n",
    "    \n",
    "        n = X_test.shape[1]\n",
    "        y_prediction = np.zeros((1,n))\n",
    "        w = w.reshape(X_test.shape[0],1)\n",
    "    \n",
    "        A = self.sigmoid(np.dot(w.T, X_test)+b)\n",
    "    \n",
    "        for i in range(A.shape[1]):\n",
    "            if (A[:,i] > 0.5): \n",
    "                y_prediction[:, i] = 1\n",
    "            elif (A[:,i] <= 0.5):\n",
    "                y_prediction[:, i] = 0\n",
    "            \n",
    "        assert (y_prediction.shape == (1,n))\n",
    "    \n",
    "        return y_prediction\n",
    "\n",
    "    \n"
   ]
  },
  {
   "cell_type": "markdown",
   "metadata": {},
   "source": [
    "Now let's define the model() function that is used to perform training on X_train and calculates the accuracy for the test data set based on the training done using logistic regression.\n"
   ]
  },
  {
   "cell_type": "code",
   "execution_count": 19,
   "metadata": {},
   "outputs": [],
   "source": [
    "def model (X_train, y_train, X_val, y_val, num_iterations = 1000, learning_rate = 0.5, print_cost = False):\n",
    "    \n",
    "    lr = Logistic_regression()\n",
    "    \n",
    "    # After taking input first normalise the data and train on training set, predict the test set and then calculate accuracy\n",
    "    \n",
    "    X_train, y_train, X_val, y_val = lr.normalisation(X_train, y_train, X_val, y_val)\n",
    "    \n",
    "    w, b = lr.initialize(X_train.shape[0])\n",
    "    \n",
    "    parameters, grads, costs = lr.train(w, b, X_train, y_train, num_iterations, learning_rate, print_cost)\n",
    "    \n",
    "    w = parameters[\"w\"]\n",
    "    b = parameters[\"b\"]\n",
    "    \n",
    "    y_prediction = lr.predict(w, b, X_val)\n",
    "    \n",
    "    match = 0\n",
    "    \n",
    "    y_val1, y_pred = y_val.T, y_prediction.T\n",
    "    \n",
    "    for i in range(y_val1.shape[0]):\n",
    "        if(y_val1[i]==y_pred[i]):\n",
    "            match+=1\n",
    "    accuracy = (match/float(y_val1.shape[0])) * 100.0    \n",
    "    \n",
    "    d ={\"y_prediction\": y_prediction, \"costs\":costs, \"yval\": y_val, \"num_iterations\":num_iterations}         \n",
    "    \n",
    "    print (\"Accuarcy of Test dataset: \",  accuracy)\n",
    "    \n",
    "    return d"
   ]
  },
  {
   "cell_type": "markdown",
   "metadata": {},
   "source": [
    "Let's test our model.\n",
    "\n",
    "Please replace X_val and y_val arguments in the following function call with the X_test and y_test arguments to test for accuracy.\n",
    "\n"
   ]
  },
  {
   "cell_type": "code",
   "execution_count": 20,
   "metadata": {},
   "outputs": [
    {
     "name": "stdout",
     "output_type": "stream",
     "text": [
      "Accuarcy of Test dataset:  97.23483285183656\n"
     ]
    }
   ],
   "source": [
    "k = model (X_train, \n",
    "           y_train, \n",
    "           X_val, \n",
    "           y_val,\n",
    "           num_iterations = 1000,\n",
    "           learning_rate = 0.05)"
   ]
  },
  {
   "cell_type": "code",
   "execution_count": 21,
   "metadata": {},
   "outputs": [
    {
     "name": "stdout",
     "output_type": "stream",
     "text": [
      "Confusion Matrix:\n",
      " [[1144   37]\n",
      " [  30 1212]]\n",
      "\n",
      "Accuracy using Confusion Matrix: 97.234833%\n"
     ]
    }
   ],
   "source": [
    "ypred = k[\"y_prediction\"]\n",
    "yval = k[\"yval\"]\n",
    "ypred_ravel = ypred.ravel()\n",
    "yval_ravel = yval.ravel()\n",
    "\n",
    "from sklearn.metrics import confusion_matrix\n",
    "\n",
    "A = confusion_matrix (yval_ravel, ypred_ravel)\n",
    "print(\"Confusion Matrix:\\n\",A)\n",
    "\n",
    "Accuracy = (A[0,0]+A[1,1])/(A[0,0]+A[0,1]+A[1,0]+A[1,1])\n",
    "print()\n",
    "print(\"Accuracy using Confusion Matrix: {0:%}\".format(Accuracy))"
   ]
  },
  {
   "cell_type": "markdown",
   "metadata": {},
   "source": [
    "\n",
    "\n",
    "\n",
    "Plot shows \"Cost function vs. number of iterations\". Let's see how Loss decreases with the number of iterations."
   ]
  },
  {
   "cell_type": "code",
   "execution_count": 22,
   "metadata": {},
   "outputs": [
    {
     "data": {
      "text/plain": [
       "Text(0,0.5,'Loss')"
      ]
     },
     "execution_count": 22,
     "metadata": {},
     "output_type": "execute_result"
    },
    {
     "data": {
      "image/png": "[encoded data removed]",
      "text/plain": [
       "<matplotlib.figure.Figure at 0x16dd5b4e860>"
      ]
     },
     "metadata": {},
     "output_type": "display_data"
    }
   ],
   "source": [
    "plt.title(\"'Loss' vs number of iterations\")\n",
    "plt.plot(k[\"costs\"])\n",
    "plt.xlabel(\"Number of iterations\", fontsize = 14)\n",
    "plt.ylabel(\"Loss\", fontsize = 17)\n"
   ]
  },
  {
   "cell_type": "code",
   "execution_count": null,
   "metadata": {},
   "outputs": [],
   "source": []
  }
 ],
 "metadata": {
  "kernelspec": {
   "display_name": "Python 3",
   "language": "python",
   "name": "python3"
  },
  "language_info": {
   "codemirror_mode": {
    "name": "ipython",
    "version": 3
   },
   "file_extension": ".py",
   "mimetype": "text/x-python",
   "name": "python",
   "nbconvert_exporter": "python",
   "pygments_lexer": "ipython3",
   "version": "3.6.4"
  }
 },
 "nbformat": 4,
 "nbformat_minor": 2
}
